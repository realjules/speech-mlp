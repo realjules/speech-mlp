{
 "cells": [
  {
   "cell_type": "markdown",
   "metadata": {},
   "source": [
    "# Frame-Level Speech Recognition Training\n",
    "\n",
    "This notebook demonstrates how to train the MLP model for frame-level speech recognition."
   ]
  },
  {
   "cell_type": "code",
   "execution_count": null,
   "metadata": {},
   "source": [
    "import torch\n",
    "import torch.nn as nn\n",
    "from torch.utils.data import DataLoader\n",
    "\n",
    "from speech_recognition.models.mlp import SpeechMLP\n",
    "from speech_recognition.data.dataset import AudioDataset, AudioTestDataset\n",
    "from speech_recognition.utils.training import (\n",
    "    train_epoch, validate, predict,\n",
    "    create_optimizer, create_scheduler,\n",
    "    setup_wandb, log_metrics\n",
    ")"
   ]
  },
  {
   "cell_type": "markdown",
   "metadata": {},
   "source": [
    "## Configuration"
   ]
  },
  {
   "cell_type": "code",
   "execution_count": null,
   "metadata": {},
   "source": [
    "config = {\n",
    "    'data_root': '/path/to/data',  # Update this\n",
    "    'context': 30,\n",
    "    'batch_size': 256,\n",
    "    'num_epochs': 25,\n",
    "    'learning_rate': 1e-3,\n",
    "    'dropout_rate': 0.05,\n",
    "    'device': 'cuda' if torch.cuda.is_available() else 'cpu'\n",
    "}\n",
    "\n",
    "# Initialize wandb\n",
    "setup_wandb(config)"
   ]
  },
  {
   "cell_type": "markdown",
   "metadata": {},
   "source": [
    "## Data Loading"
   ]
  },
  {
   "cell_type": "code",
   "execution_count": null,
   "metadata": {},
   "source": [
    "# Create datasets\n",
    "train_data = AudioDataset(\n",
    "    root=config['data_root'],\n",
    "    context=config['context'],\n",
    "    augment=True\n",
    ")\n",
    "\n",
    "val_data = AudioDataset(\n",
    "    root=config['data_root'],\n",
    "    partition='dev-clean',\n",
    "    context=config['context'],\n",
    "    augment=False\n",
    ")\n",
    "\n",
    "test_data = AudioTestDataset(\n",
    "    root=config['data_root'],\n",
    "    context=config['context']\n",
    ")\n",
    "\n",
    "# Create dataloaders\n",
    "train_loader = DataLoader(\n",
    "    dataset=train_data,\n",
    "    batch_size=config['batch_size'],\n",
    "    shuffle=True,\n",
    "    num_workers=8,\n",
    "    pin_memory=True\n",
    ")\n",
    "\n",
    "val_loader = DataLoader(\n",
    "    dataset=val_data,\n",
    "    batch_size=config['batch_size'],\n",
    "    shuffle=False,\n",
    "    num_workers=4,\n",
    "    pin_memory=True\n",
    ")\n",
    "\n",
    "test_loader = DataLoader(\n",
    "    dataset=test_data,\n",
    "    batch_size=config['batch_size'],\n",
    "    shuffle=False,\n",
    "    num_workers=4,\n",
    "    pin_memory=True\n",
    ")"
   ]
  },
  {
   "cell_type": "markdown",
   "metadata": {},
   "source": [
    "## Model Setup"
   ]
  },
  {
   "cell_type": "code",
   "execution_count": null,
   "metadata": {},
   "source": [
    "# Calculate input size based on context\n",
    "input_size = (2 * config['context'] + 1) * 28\n",
    "output_size = len(train_data.phonemes)\n",
    "\n",
    "# Create model\n",
    "model = SpeechMLP(\n",
    "    input_size=input_size,\n",
    "    output_size=output_size,\n",
    "    dropout_rate=config['dropout_rate']\n",
    ").to(config['device'])\n",
    "\n",
    "# Loss and optimizer\n",
    "criterion = nn.CrossEntropyLoss()\n",
    "optimizer = create_optimizer(model, lr=config['learning_rate'])\n",
    "scheduler = create_scheduler(\n",
    "    optimizer,\n",
    "    mode='cosine',\n",
    "    T_max=config['num_epochs']\n",
    ")"
   ]
  },
  {
   "cell_type": "markdown",
   "metadata": {},
   "source": [
    "## Training Loop"
   ]
  },
  {
   "cell_type": "code",
   "execution_count": null,
   "metadata": {},
   "source": [
    "best_val_acc = 0\n",
    "\n",
    "for epoch in range(config['num_epochs']):\n",
    "    print(f\"\\nEpoch {epoch+1}/{config['num_epochs']}\")\n",
    "    \n",
    "    # Training\n",
    "    train_loss, train_acc = train_epoch(\n",
    "        model, train_loader, criterion, optimizer, config['device']\n",
    "    )\n",
    "    \n",
    "    # Validation\n",
    "    val_loss, val_acc = validate(\n",
    "        model, val_loader, criterion, config['device']\n",
    "    )\n",
    "    \n",
    "    # Update learning rate\n",
    "    if isinstance(scheduler, torch.optim.lr_scheduler.ReduceLROnPlateau):\n",
    "        scheduler.step(val_loss)\n",
    "    else:\n",
    "        scheduler.step()\n",
    "    \n",
    "    # Log metrics\n",
    "    log_metrics({\n",
    "        'train_loss': train_loss,\n",
    "        'train_acc': train_acc,\n",
    "        'val_loss': val_loss,\n",
    "        'val_acc': val_acc,\n",
    "        'learning_rate': optimizer.param_groups[0]['lr']\n",
    "    }, epoch)\n",
    "    \n",
    "    # Save best model\n",
    "    if val_acc > best_val_acc:\n",
    "        best_val_acc = val_acc\n",
    "        torch.save(model.state_dict(), 'best_model.pt')\n",
    "        print(f\"New best validation accuracy: {val_acc:.2f}%\")"
   ]
  },
  {
   "cell_type": "markdown",
   "metadata": {},
   "source": [
    "## Generate Predictions"
   ]
  },
  {
   "cell_type": "code",
   "execution_count": null,
   "metadata": {},
   "source": [
    "# Load best model\n",
    "model.load_state_dict(torch.load('best_model.pt'))\n",
    "\n",
    "# Generate predictions\n",
    "predictions = predict(model, test_loader, config['device'])\n",
    "\n",
    "# Save predictions\n",
    "import numpy as np\n",
    "np.save('predictions.npy', predictions)"
   ]
  }
 ],
 "metadata": {
  "kernelspec": {
   "display_name": "Python 3",
   "language": "python",
   "name": "python3"
  },
  "language_info": {
   "codemirror_mode": {
    "name": "ipython",
    "version": 3
   },
   "file_extension": ".py",
   "mimetype": "text/x-python",
   "name": "python",
   "nbconvert_exporter": "python",
   "pygments_lexer": "ipython3",
   "version": "3.10.14"
  }
 },
 "nbformat": 4,
 "nbformat_minor": 4
}